{
 "cells": [
  {
   "cell_type": "code",
   "execution_count": 34,
   "metadata": {},
   "outputs": [],
   "source": [
    "import numpy as np\n",
    "from difflib import SequenceMatcher"
   ]
  },
  {
   "attachments": {},
   "cell_type": "markdown",
   "metadata": {},
   "source": [
    "Load data"
   ]
  },
  {
   "cell_type": "code",
   "execution_count": 24,
   "metadata": {},
   "outputs": [
    {
     "name": "stdout",
     "output_type": "stream",
     "text": [
      "Initial dictionary length: 661563\n"
     ]
    }
   ],
   "source": [
    "data_raw = np.loadtxt(fname=\"660k.txt\",dtype='str')\n",
    "print(\"Initial dictionary length: {}\".format(len(data_raw)))"
   ]
  },
  {
   "attachments": {},
   "cell_type": "markdown",
   "metadata": {},
   "source": [
    "Firsts manipulations"
   ]
  },
  {
   "cell_type": "code",
   "execution_count": 25,
   "metadata": {},
   "outputs": [
    {
     "name": "stdout",
     "output_type": "stream",
     "text": [
      "Data length: 661563\n"
     ]
    }
   ],
   "source": [
    "# remove short words\n",
    "data = [wrd for wrd in data_raw if len(wrd)>3]\n",
    "print(\"Data length: {}\".format(len(data_raw)))"
   ]
  },
  {
   "cell_type": "code",
   "execution_count": 27,
   "metadata": {},
   "outputs": [],
   "source": [
    "# group words by length\n",
    "max_wrd_len = len(max(data, key=len))\n",
    "data_grouped = { i: [] for i in range(4,max_wrd_len+1) }\n",
    "for wrd in data:\n",
    "    data_grouped[len(wrd)].append(wrd)"
   ]
  }
 ],
 "metadata": {
  "kernelspec": {
   "display_name": "MyProjects",
   "language": "python",
   "name": "python3"
  },
  "language_info": {
   "codemirror_mode": {
    "name": "ipython",
    "version": 3
   },
   "file_extension": ".py",
   "mimetype": "text/x-python",
   "name": "python",
   "nbconvert_exporter": "python",
   "pygments_lexer": "ipython3",
   "version": "3.9.16"
  },
  "orig_nbformat": 4
 },
 "nbformat": 4,
 "nbformat_minor": 2
}
