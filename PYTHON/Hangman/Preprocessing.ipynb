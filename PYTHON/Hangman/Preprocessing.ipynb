{
 "cells": [
  {
   "cell_type": "code",
   "execution_count": 1,
   "metadata": {},
   "outputs": [],
   "source": [
    "import numpy as np"
   ]
  },
  {
   "attachments": {},
   "cell_type": "markdown",
   "metadata": {},
   "source": [
    "Constants"
   ]
  },
  {
   "cell_type": "code",
   "execution_count": 2,
   "metadata": {},
   "outputs": [],
   "source": [
    "fname = \"4mln_ax\"\n",
    "min_wrd_len = 4\n",
    "probs = { \n",
    "    \"a\": 11.74,\n",
    "    \"b\": 0.92,\n",
    "    \"c\": 4.50,\n",
    "    \"d\": 3.73,\n",
    "    \"e\": 11.79,\n",
    "    \"f\": 0.95,\n",
    "    \"g\": 1.64,\n",
    "    \"h\": 1.54,\n",
    "    \"i\": 11.28,\n",
    "    #\"j\": ,\n",
    "    #\"k\": ,\n",
    "    \"l\": 6.51,\n",
    "    \"m\": 2.51,\n",
    "    \"n\": 6.88,\n",
    "    \"o\": 9.83,\n",
    "    \"p\": 3.05,\n",
    "    \"q\": 0.51,\n",
    "    \"r\": 6.37,\n",
    "    \"s\": 4.98,\n",
    "    \"t\": 5.62,\n",
    "    \"u\": 3.01,\n",
    "    \"v\": 2.10,\n",
    "    #\"x\": ,\n",
    "    #\"y\": ,\n",
    "    #\"w\": ,\n",
    "    \"z\": 0.49     \n",
    "    }\t"
   ]
  },
  {
   "attachments": {},
   "cell_type": "markdown",
   "metadata": {},
   "source": [
    "Load data"
   ]
  },
  {
   "cell_type": "code",
   "execution_count": 3,
   "metadata": {},
   "outputs": [
    {
     "name": "stdout",
     "output_type": "stream",
     "text": [
      "Initial dictionary length: 4261494\n"
     ]
    }
   ],
   "source": [
    "data = np.loadtxt(fname=\"./raw_Datasets/%s.txt\"%fname,dtype='str')\n",
    "print(\"Initial dictionary length: {}\".format(len(data)))"
   ]
  },
  {
   "attachments": {},
   "cell_type": "markdown",
   "metadata": {},
   "source": [
    "Processing..."
   ]
  },
  {
   "cell_type": "code",
   "execution_count": 4,
   "metadata": {},
   "outputs": [],
   "source": [
    "# remove words with non-italian letters (for efficiency we set it to '' and then remove by filtering on length)\n",
    "for idx, wrd in enumerate(data):\n",
    "    if \"x\" in wrd or \"y\" in wrd or \"j\" in wrd or \"k\" in wrd or \"w\" in wrd: \n",
    "        data[idx] = ''"
   ]
  },
  {
   "cell_type": "code",
   "execution_count": 5,
   "metadata": {},
   "outputs": [
    {
     "name": "stdout",
     "output_type": "stream",
     "text": [
      "Data length: 4244274\n"
     ]
    }
   ],
   "source": [
    "# remove short words\n",
    "data = [wrd for wrd in data if len(wrd)>min_wrd_len-1]\n",
    "print(\"Data length: {}\".format(len(data)))"
   ]
  },
  {
   "cell_type": "code",
   "execution_count": 6,
   "metadata": {},
   "outputs": [],
   "source": [
    "# group words by length\n",
    "max_wrd_len = len(max(data, key=len))\n",
    "data_grouped = { i: [] for i in range(min_wrd_len,max_wrd_len+1) }\n",
    "for wrd in data:\n",
    "    data_grouped[len(wrd)].append(wrd)"
   ]
  },
  {
   "attachments": {},
   "cell_type": "markdown",
   "metadata": {},
   "source": [
    "Save processed data"
   ]
  },
  {
   "cell_type": "code",
   "execution_count": 7,
   "metadata": {},
   "outputs": [],
   "source": [
    "for key, value in data_grouped.items():\n",
    "    np.save(\"./processed_data/%s_length%i\"% (fname,key), value)"
   ]
  },
  {
   "attachments": {},
   "cell_type": "markdown",
   "metadata": {},
   "source": [
    "Temporary codes"
   ]
  },
  {
   "cell_type": "code",
   "execution_count": 8,
   "metadata": {},
   "outputs": [
    {
     "name": "stdout",
     "output_type": "stream",
     "text": [
      "_____\n"
     ]
    }
   ],
   "source": [
    "a = \"_\"*5\n",
    "print(a)"
   ]
  }
 ],
 "metadata": {
  "kernelspec": {
   "display_name": "MyProjects",
   "language": "python",
   "name": "python3"
  },
  "language_info": {
   "codemirror_mode": {
    "name": "ipython",
    "version": 3
   },
   "file_extension": ".py",
   "mimetype": "text/x-python",
   "name": "python",
   "nbconvert_exporter": "python",
   "pygments_lexer": "ipython3",
   "version": "3.9.16"
  },
  "orig_nbformat": 4
 },
 "nbformat": 4,
 "nbformat_minor": 2
}
