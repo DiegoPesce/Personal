{
 "cells": [
  {
   "attachments": {},
   "cell_type": "markdown",
   "metadata": {},
   "source": [
    "Altezza h, partono da 0.\n",
    "Due attributi a e b interi.\n",
    "Durante il giorno sale a e la notte scende b con a > b.\n",
    "Finisce quando raggiunge h.\n",
    "\n",
    "Non conosci h ma intero positivo\n",
    "\n",
    "Due eventi possibili\n",
    "1: una lumaca ci mette n giorni e conosci i suoi a e b, se contraddice cio che sai già lo ignori\n",
    "2: una lumaca con a e b ti chiede quanto ci mette e tu puoi rispondere solo con le info fin'ora, se puoi essere preciso rispondi.\n",
    "\n",
    "Inputs: q = numero di eventi \n",
    "\n",
    "Out: q linee di risposta, se evt 1 dici se accetti o ignori, se evt2 rispondi se puoi."
   ]
  },
  {
   "cell_type": "code",
   "execution_count": 19,
   "metadata": {},
   "outputs": [
    {
     "name": "stdout",
     "output_type": "stream",
     "text": [
      "\n"
     ]
    }
   ],
   "source": [
    "print()\n",
    "q = int(input(\"Inserisci q: \"))\n",
    "data = list()\n",
    "for _ in range(q):\n",
    "    evt = int(input(\"Evento: \"))\n",
    "    if evt == 1:\n",
    "        a, b, n = input(\"Insert a, b and the day of arrive: \").split()\n",
    "        n = int(n)\n",
    "        a = int(a)\n",
    "        b = int(b)\n",
    "        data = data + [[evt, a, b, n]]\n",
    "    else:\n",
    "        a, b = input(\"Insert a and b: \").split()    \n",
    "        a = int(a)\n",
    "        b = int(b)\n",
    "        data = data + [[evt, a, b]]\n",
    "    "
   ]
  },
  {
   "cell_type": "code",
   "execution_count": 20,
   "metadata": {},
   "outputs": [
    {
     "data": {
      "text/plain": [
       "[[1, 6, 3, 10],\n",
       " [1, 8, 4, 11],\n",
       " [2, 9, 3],\n",
       " [2, 7, 5],\n",
       " [1, 8, 5, 9],\n",
       " [1, 8, 3, 7],\n",
       " [2, 10, 1]]"
      ]
     },
     "execution_count": 20,
     "metadata": {},
     "output_type": "execute_result"
    }
   ],
   "source": [
    "# = [[1, 3, 2, 5], [2, 4, 1], [2, 3, 2]] -> 1 2 5\n",
    "# = [[1, 4, 2, 2], [1, 2, 1, 3], [2, 10, 2]] -> 1 0 1\n",
    "# = [[1 7 3 6], [1 2 1 8], [2 5 1], [1 10 9 7], [1 8 1 2], [1 10 5 8], [1 10 7 7], [2 7 4], [1 9 4 2]] -> 1 0 -1 0 0 0 1 8 0\n",
    "# = [[1, 2, 1, 6], [1, 8, 5, 6], [1, 4, 2, 7], [2, 9, 1], [1, 5, 1, 4], [1, 5, 2, 7], [1, 7, 1, 9], [1, 9, 1, 4], [2, 10, 8]] -> 1 0 0 1 0 0 0 0 1\n",
    "\n",
    "######################\n",
    "# Input inventato = [[1, 6, 3, 10], [1, 8, 4, 11], [2, 9, 3], [2, 7, 5], [1, 8, 5, 9], [1, 8, 3, 7], [2, 10, 1]] \n",
    "# Output calcolato a mano = {\n",
    "# h = [31, 32, 33]\n",
    "# Rifiutato\n",
    "# Arrivi in 5 giorni\n",
    "# Non lo so, arrivi in 13 o 14 giorni\n",
    "# Accetto l'informazione che mi stima h in [30 31 32] -> h = [31 32]\n",
    "# Rifiutato\n",
    "# Arrivi in 4\n",
    "# }\n",
    "######################\n",
    "data  = [[1, 6, 3, 10], [1, 8, 4, 11], [2, 9, 3], [2, 7, 5], [1, 8, 5, 9], [1, 8, 3, 7], [2, 10, 1]]\n",
    "data"
   ]
  },
  {
   "cell_type": "code",
   "execution_count": 17,
   "metadata": {},
   "outputs": [
    {
     "name": "stdout",
     "output_type": "stream",
     "text": [
      "Proposta accettata\n",
      "Stai mentendo\n",
      "Arriverai il giorno 5\n",
      "Non so quando arriverai\n",
      "Proposta accettata\n",
      "Stai mentendo\n",
      "Arriverai il giorno 4\n"
     ]
    }
   ],
   "source": [
    "def intersection(lst1, lst2):\n",
    "    lst3 = [value for value in lst1 if value in lst2]\n",
    "    return lst3\n",
    "h = list()\n",
    "for v in data:\n",
    "    \n",
    "    if v[0] == 1:\n",
    "        # se la lumaca mi dice quando è arrivata\n",
    "\n",
    "        # h ranges from (a-b)(n-2)+a to (a-b)(n-1)+a\n",
    "        ranges = list(range( (v[1]-v[2])*(v[3]-2) + v[1] +1 , (v[1]-v[2])*(v[3]-1)+v[1] +1 ))\n",
    "\n",
    "        # se le possibili altezze sono vuote -> generale tra quelle che mi hanno detto\n",
    "        if len(h) == 0:\n",
    "            h = ranges\n",
    "\n",
    "        # trova l'intersezione tra le altezze già ricavate e quelle nuove appena ottenute\n",
    "        tmp = intersection(h, ranges)\n",
    "\n",
    "        if len(tmp) != 0:\n",
    "            # se l'intersezione non è nulla allora accetto i dati\n",
    "            print(\"Proposta accettata\")\n",
    "            h = tmp\n",
    "        else:\n",
    "            # se l'intersezione è vuota allora la lumaca sta mentendo\n",
    "            print(\"Stai mentendo\")\n",
    "\n",
    "    else:\n",
    "        # la lumaca mi chiede quando arriverà\n",
    "        found = False # dummy\n",
    "\n",
    "        if ( v[1] >= max(h) ):\n",
    "            # se gia il primo giorno superi le stime di h \n",
    "            print(\"Arriverai il primo giorno\")\n",
    "            found = True\n",
    "        else:\n",
    "            for n in range(2,max(h)+1):\n",
    "                # al massimo n = h (+-1) siccome devo muovermi almeno di 1 in un giorno\n",
    "                if ( (n-1)*(v[1]-v[2]) + v[1] >= max(h) ) & ( (n-2)*(v[1]-v[2]) + v[1] <  min(h) ):\n",
    "                    # se il giorno n mi trovo oltre la massima stima di h e\n",
    "                    # il giorno n-1 mi trovo sotto la minor stima di h allora\n",
    "                    # sicuramente il giorno n sono arrivato\n",
    "                    found = True\n",
    "                    print(\"Arriverai il giorno {}\".format(n))\n",
    "                    break # se lo so esco dal for\n",
    "        if not found:\n",
    "            print(\"Non so quando arriverai\")  \n",
    "        \n",
    "            \n",
    "    \n",
    "\n"
   ]
  },
  {
   "cell_type": "code",
   "execution_count": 18,
   "metadata": {},
   "outputs": [
    {
     "data": {
      "text/plain": [
       "[31, 32]"
      ]
     },
     "execution_count": 18,
     "metadata": {},
     "output_type": "execute_result"
    }
   ],
   "source": [
    "h\n"
   ]
  }
 ],
 "metadata": {
  "kernelspec": {
   "display_name": "MyProjects",
   "language": "python",
   "name": "python3"
  },
  "language_info": {
   "codemirror_mode": {
    "name": "ipython",
    "version": 3
   },
   "file_extension": ".py",
   "mimetype": "text/x-python",
   "name": "python",
   "nbconvert_exporter": "python",
   "pygments_lexer": "ipython3",
   "version": "3.9.16"
  },
  "orig_nbformat": 4,
  "vscode": {
   "interpreter": {
    "hash": "b705a5fa615cd87b441b7426c2504a19551d0ed6c5b3705ab6bec11db9404e99"
   }
  }
 },
 "nbformat": 4,
 "nbformat_minor": 2
}
